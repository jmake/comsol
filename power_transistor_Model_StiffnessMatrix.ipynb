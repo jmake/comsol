{
 "cells": [
  {
   "cell_type": "raw",
   "id": "171a468d",
   "metadata": {},
   "source": []
  },
  {
   "cell_type": "code",
   "execution_count": 1,
   "id": "ebde8dab",
   "metadata": {},
   "outputs": [
    {
     "name": "stderr",
     "output_type": "stream",
     "text": [
      "DEBUG:mph:Using default configuration.\n"
     ]
    },
    {
     "name": "stdout",
     "output_type": "stream",
     "text": [
      "-----------------------\n",
      "+Running 'ipykernel_launcher'... \n",
      "PWD: /Users/poderozita/Dropbox/PythonScrits/z2021_1/COMSOL/Python/Test04_1\n"
     ]
    }
   ],
   "source": [
    "COMSOL=\"$OUTPUT_PATH/COMSOL56/Python/MPh\"\n",
    "VTK_TOOLS=\"$OUTPUT_PATH/COMSOL56/Python/\"\n",
    "\n",
    "import sys;\n",
    "\n",
    "sys.path.append(COMSOL)\n",
    "import mph;\n",
    "\n",
    "sys.path.append(VTK_TOOLS)\n",
    "import vtk_tools\n",
    "\n",
    "import vtk\n",
    "import numpy as np \n",
    "import pandas as pd\n",
    "\n",
    "import os\n",
    "print(\"PWD:\", os.getcwd())  \n"
   ]
  },
  {
   "cell_type": "raw",
   "id": "18c32885",
   "metadata": {},
   "source": []
  },
  {
   "cell_type": "code",
   "execution_count": 2,
   "id": "f7e6f6c2",
   "metadata": {},
   "outputs": [
    {
     "name": "stderr",
     "output_type": "stream",
     "text": [
      "INFO:mph:Starting local Comsol session.\n",
      "DEBUG:mph:Checking installation folder \"/Applications/COMSOL56/Multiphysics\".\n",
      "DEBUG:mph:Reported version info is \"[comsol] CONFIG_FILE /Applications/COMSOL56/Multiphysics/bin/maci64/comsolcompile.ini\n",
      "COMSOL Multiphysics 5.6.0.401\".\n",
      "DEBUG:mph:Assigned name \"5.6\" to this installation.\n",
      "DEBUG:mph:No folder \"Multiphysics\" in \"COMSOL56.app\".\n",
      "INFO:mph:Starting external server process.\n",
      "INFO:mph:Server restricted to 1 processor core.\n"
     ]
    },
    {
     "name": "stdout",
     "output_type": "stream",
     "text": [
      "Version: '[comsol] CONFIG_FILE /Applications/COMSOL56/Multiphysics/bin/maci64/comsolcompile.ini\n",
      "COMSOL Multiphysics 5.6.0.401' \n"
     ]
    },
    {
     "name": "stderr",
     "output_type": "stream",
     "text": [
      "INFO:mph:Server listening on port 54436.\n",
      "DEBUG:mph:JPype version is 1.3.0.\n",
      "INFO:mph:Starting Java virtual machine.\n",
      "DEBUG:mph:JVM arguments: ['/Applications/COMSOL56/Multiphysics/java/maci64/jre/Contents/Home/lib/server/libjvm.dylib']\n",
      "INFO:mph:Java virtual machine has started.\n",
      "INFO:mph:Connecting to server \"localhost\" at port 54436.\n",
      "INFO:mph:Running on 1 processor core.\n",
      "INFO:mph:Loading model \"power_transistor_Model.mph\".\n",
      "INFO:mph:Finished loading model.\n"
     ]
    }
   ],
   "source": [
    "CASE =\"$OUTPUT_PATH/COMSOL56/CASES/\"\n",
    "mph_name = \"%s/power_transistor_Model.mph\" % CASE\n",
    "\n",
    "client   = mph.start(cores=1)\n",
    "model    = client.load(mph_name)\n",
    "mph_name = mph_name.replace(\".mph\",\"\")\n"
   ]
  },
  {
   "cell_type": "code",
   "execution_count": 3,
   "id": "bfb555ce",
   "metadata": {},
   "outputs": [
    {
     "name": "stdout",
     "output_type": "stream",
     "text": [
      "power_transistor_Model\n",
      "├─ parameters\n",
      "│  └─ Parameters 1\n",
      "├─ functions\n",
      "│  ├─ Blackbody Radiation Intensity\n",
      "│  └─ Smoothed Heaviside Function\n",
      "├─ components\n",
      "│  └─ Component 1\n",
      "├─ geometries\n",
      "│  └─ Geometry 1\n",
      "│     ├─ Block 1\n",
      "│     ├─ Work Plane 1\n",
      "│     ├─ Extrude 1\n",
      "│     ├─ Block 2\n",
      "│     ├─ Block 3\n",
      "│     ├─ Hexahedron 1\n",
      "│     ├─ Union 1\n",
      "│     ├─ Block 4\n",
      "│     ├─ Block 5\n",
      "│     ├─ Block 6\n",
      "│     ├─ Block 7\n",
      "│     ├─ Hexahedron 2\n",
      "│     ├─ Mirror 1\n",
      "│     ├─ Union 2\n",
      "│     ├─ Cylinder 1\n",
      "│     ├─ Difference 1\n",
      "│     ├─ Transistor Chip\n",
      "│     ├─ Work Plane 3\n",
      "│     ├─ Revolve 1\n",
      "│     ├─ Union 3\n",
      "│     ├─ Array 1\n",
      "│     ├─ Form Union\n",
      "│     ├─ Form Composite Domains 1\n",
      "│     └─ Form Composite Domains 2\n",
      "├─ views\n",
      "│  ├─ View 1\n",
      "│  ├─ View 2\n",
      "│  ├─ View 3\n",
      "│  └─ View 4\n",
      "├─ selections\n",
      "│  └─ Transistor Chip\n",
      "├─ coordinates\n",
      "│  └─ Boundary System 1\n",
      "├─ variables\n",
      "├─ couplings\n",
      "│  ├─ Integration\n",
      "│  ├─ Integration\n",
      "│  ├─ Integration\n",
      "│  ├─ Integration\n",
      "│  ├─ Integration\n",
      "│  ├─ Integration\n",
      "│  ├─ Integration\n",
      "│  ├─ Integration\n",
      "│  ├─ Integration\n",
      "│  ├─ Integration\n",
      "│  ├─ Integration\n",
      "│  ├─ Integration\n",
      "│  ├─ Integration\n",
      "│  ├─ Integration\n",
      "│  ├─ Integration\n",
      "│  ├─ Integration\n",
      "│  ├─ Integration\n",
      "│  ├─ Integration\n",
      "│  ├─ Integration\n",
      "│  ├─ Integration\n",
      "│  ├─ Integration\n",
      "│  ├─ Integration\n",
      "│  ├─ Integration\n",
      "│  ├─ Integration\n",
      "│  ├─ Integration\n",
      "│  ├─ Integration\n",
      "│  └─ Integration\n",
      "├─ physics\n",
      "│  ├─ Electric Currents\n",
      "│  │  ├─ Current Conservation 1\n",
      "│  │  ├─ Electric Insulation 1\n",
      "│  │  ├─ Initial Values 1\n",
      "│  │  ├─ Ground 1\n",
      "│  │  ├─ Normal Current Density 1\n",
      "│  │  ├─ Normal Current Density 2\n",
      "│  │  └─ Normal Current Density 3\n",
      "│  └─ Heat Transfer in Solids\n",
      "│     ├─ Solid 1\n",
      "│     │  └─ Opacity 1\n",
      "│     ├─ Initial Values 1\n",
      "│     ├─ Thermal Insulation 1\n",
      "│     ├─ Isothermal Domain Interface 1\n",
      "│     │  └─ Layer Opacity 1\n",
      "│     ├─ Opaque Surface 1\n",
      "│     ├─ Continuity on Interior Boundary 1\n",
      "│     ├─ Heat Flux 1\n",
      "│     └─ Boundary Heat Source 1\n",
      "├─ multiphysics\n",
      "│  └─ Electromagnetic Heating 1\n",
      "├─ materials\n",
      "│  ├─ Copper\n",
      "│  ├─ FR4 (Circuit Board)\n",
      "│  ├─ Silica glass\n",
      "│  └─ Solder, 60Sn-40Pb\n",
      "├─ meshes\n",
      "│  └─ Mesh 1\n",
      "│     ├─ Size\n",
      "│     └─ Free Tetrahedral 1\n",
      "├─ studies\n",
      "│  └─ Study 1\n",
      "│     └─ Stationary\n",
      "├─ solutions\n",
      "│  └─ Solution 1\n",
      "│     ├─ Compile Equations: Stationary\n",
      "│     ├─ Dependent Variables 1\n",
      "│     │  ├─ Temperature (comp1.T)\n",
      "│     │  └─ Electric potential (comp1.V)\n",
      "│     └─ Stationary Solver 1\n",
      "│        ├─ Direct\n",
      "│        ├─ Advanced\n",
      "│        ├─ Segregated 1\n",
      "│        │  ├─ Electric Currents\n",
      "│        │  ├─ Temperature\n",
      "│        │  └─ Lower Limit 1\n",
      "│        ├─ Iterative 1\n",
      "│        │  ├─ Incomplete LU\n",
      "│        │  └─ Multigrid 1\n",
      "│        │     ├─ Presmoother\n",
      "│        │     │  └─ SOR\n",
      "│        │     ├─ Postsmoother\n",
      "│        │     │  └─ SOR\n",
      "│        │     └─ Coarse Solver\n",
      "│        │        └─ Direct\n",
      "│        ├─ Direct, temperature (ht)\n",
      "│        └─ AMG, temperature (ht)\n",
      "│           ├─ Incomplete LU\n",
      "│           └─ Multigrid 1\n",
      "│              ├─ Presmoother\n",
      "│              │  ├─ SOR\n",
      "│              │  └─ SOR 1\n",
      "│              ├─ Postsmoother\n",
      "│              │  ├─ SOR\n",
      "│              │  └─ SOR 1\n",
      "│              └─ Coarse Solver\n",
      "│                 ├─ Direct\n",
      "│                 └─ Direct 1\n",
      "├─ batches\n",
      "├─ datasets\n",
      "│  └─ Study 1//Solution 1\n",
      "├─ evaluations\n",
      "├─ tables\n",
      "├─ plots\n",
      "│  ├─ Electric Potential (ec)\n",
      "│  │  └─ Surface 1\n",
      "│  ├─ Temperature (ht)\n",
      "│  │  ├─ Surface\n",
      "│  │  └─ Arrow Surface 1\n",
      "│  ├─ Isothermal Contours (ht)\n",
      "│  │  └─ Isosurface\n",
      "│  └─ Temperature along Copper Routes\n",
      "│     ├─ Line Graph 1\n",
      "│     └─ Line Graph 2\n",
      "└─ exports\n"
     ]
    }
   ],
   "source": [
    "mph.tree(model)"
   ]
  },
  {
   "cell_type": "code",
   "execution_count": 4,
   "id": "a8c9df08",
   "metadata": {},
   "outputs": [],
   "source": [
    "tAssemble = \"a1\"\n",
    "model.java.sol('sol1').create(tAssemble,'Assemble');"
   ]
  },
  {
   "cell_type": "code",
   "execution_count": 5,
   "id": "cf9d9d3e",
   "metadata": {},
   "outputs": [
    {
     "name": "stdout",
     "output_type": "stream",
     "text": [
      "56091 56091\n"
     ]
    }
   ],
   "source": [
    "import numpy as np \n",
    "\n",
    "tMatrix = \"K\" # K: stiffness matrix\n",
    "\n",
    "model.java.sol('sol1').feature(tAssemble).set(tMatrix,\"on\") \n",
    "model.java.sol(\"sol1\").runAll();\n",
    "\n",
    "nRows = model.java.sol('sol1').feature(tAssemble).getM(tMatrix) # Get number of rows\n",
    "nCols = model.java.sol('sol1').feature(tAssemble).getN(tMatrix) # Get number of columns\n",
    "print(nRows,nCols)\n",
    "\n",
    "Cols = np.array(model.java.sol('sol1').feature(tAssemble).getSparseMatrixCol(tMatrix)) # Get column indices of matrix values\n",
    "Rows = np.array(model.java.sol('sol1').feature(tAssemble).getSparseMatrixRow(tMatrix)) # Get row indices of matrix values\n",
    "Data = np.array(model.java.sol('sol1').feature(tAssemble).getSparseMatrixVal(tMatrix)) # Get matrix values\n"
   ]
  },
  {
   "cell_type": "code",
   "execution_count": 6,
   "id": "044ab3e0",
   "metadata": {},
   "outputs": [
    {
     "name": "stdout",
     "output_type": "stream",
     "text": [
      "CPU times: user 165 ms, sys: 19.7 ms, total: 185 ms\n",
      "Wall time: 261 ms\n"
     ]
    }
   ],
   "source": [
    "%%time\n",
    "import scipy.sparse as sparse\n",
    "mtx = sparse.coo_matrix((Data, (Rows,Cols)), shape=(nRows,nCols))"
   ]
  },
  {
   "cell_type": "code",
   "execution_count": 8,
   "id": "ca17067c",
   "metadata": {},
   "outputs": [
    {
     "data": {
      "text/plain": [
       "<matplotlib.lines.Line2D at 0x7fdb0f49fb50>"
      ]
     },
     "execution_count": 8,
     "metadata": {},
     "output_type": "execute_result"
    },
    {
     "data": {
      "image/png": "[encoded data removed]",
      "text/plain": [
       "<Figure size 432x288 with 1 Axes>"
      ]
     },
     "metadata": {
      "needs_background": "light"
     },
     "output_type": "display_data"
    }
   ],
   "source": [
    "import matplotlib.pylab as plt\n",
    "\n",
    "plt.spy(mtx, markersize=1)"
   ]
  },
  {
   "cell_type": "raw",
   "id": "024befdf",
   "metadata": {},
   "source": []
  },
  {
   "cell_type": "markdown",
   "id": "cabbc547",
   "metadata": {},
   "source": [
    "## References \n",
    "\n",
    "https://www.comsol.com/blogs/implementing-the-weak-form-with-a-comsol-app/\n",
    "\n",
    "https://doc.comsol.com/5.5/doc/com.comsol.help.comsol/COMSOL_ProgrammingReferenceManual.pdf\n"
   ]
  },
  {
   "cell_type": "raw",
   "id": "8c30fc8a",
   "metadata": {},
   "source": []
  }
 ],
 "metadata": {
  "kernelspec": {
   "display_name": "Python 3",
   "language": "python",
   "name": "python3"
  },
  "language_info": {
   "codemirror_mode": {
    "name": "ipython",
    "version": 3
   },
   "file_extension": ".py",
   "mimetype": "text/x-python",
   "name": "python",
   "nbconvert_exporter": "python",
   "pygments_lexer": "ipython3",
   "version": "3.7.9"
  }
 },
 "nbformat": 4,
 "nbformat_minor": 5
}
