{
 "cells": [
  {
   "cell_type": "code",
   "execution_count": null,
   "id": "a2c7e9fa",
   "metadata": {},
   "outputs": [],
   "source": []
  },
  {
   "cell_type": "code",
   "execution_count": 10,
   "id": "7e2b0408",
   "metadata": {},
   "outputs": [],
   "source": [
    "def GetResultFeature(ResultFeature):\n",
    "        print(\"\\tTag:'{}', Name:'{}'\".format(ResultFeature.tag(), ResultFeature.name()) )\n",
    "        for ri in range(ResultFeature.getRenderGroups()) :\n",
    "            dataTypes = ResultFeature.getDataTypes(ri)\n",
    "            for gi in range(ResultFeature.getGroups(ri)) :\n",
    "                p = np.array( ResultFeature.getVertices(ri,gi) )\n",
    "                t = np.array( ResultFeature.getElements(ri,gi) )\n",
    "                for dataType in dataTypes :\n",
    "                    d = np.array( ResultFeature.getData(ri,gi,dataType) )\n",
    "                    print(\"\\t'%s'\" % dataType, \n",
    "                          \"vertices:{} elements:{}\".format(p.shape, t.shape))\n",
    "            print()\n",
    "            \n",
    "            \n",
    "def GetResultsClient(model_java):\n",
    "        ResultsClient = model_java.result()\n",
    "        print(\"[ResultsClient]\\nTag:'{}', Name:'{}' -> Tags:{}\\n\".format(ResultsClient.name(),\n",
    "                                                                      ResultsClient.tag(),ResultsClient.tags()) )\n",
    "\n",
    "        for ResultFeatures in ResultsClient :\n",
    "            ResultFeatureListClient = ResultFeatures.feature()\n",
    "            print(\"  Tag:'{}', Name:'{}' -> Tags:{}\".format(ResultFeatures.tag(), ResultFeatures.name(), \n",
    "                                        ResultFeatureListClient.tags()) )\n",
    "            \n",
    "            for ResultFeature in ResultFeatureListClient :\n",
    "                GetResultFeature(ResultFeature)\n",
    "\n"
   ]
  },
  {
   "cell_type": "code",
   "execution_count": 11,
   "id": "2d3ddd9b",
   "metadata": {},
   "outputs": [],
   "source": [
    "def PlotPlotGroup2D(ResultFeature) :\n",
    "        Indices = []\n",
    "        for ri in range(ResultFeature.getRenderGroups()) :\n",
    "            for gi in range( ResultFeature.getGroups(ri) ) :\n",
    "                for di in ResultFeature.getDataTypes(ri) : \n",
    "                    Indices.append([ri,gi,di])\n",
    "\n",
    "        Curves = []\n",
    "        for (ri,gi,di) in Indices :\n",
    "            print(\"\\tRenderGroup:{}, Group:{}, DataTypes:'{}'\".format(ri,gi,di), end=\" -> \")\n",
    "            Vertices = np.array( ResultFeature.getVertices(ri,gi) ).T\n",
    "            Elements = np.array( ResultFeature.getElements(ri,gi) ).T\n",
    "            Data     = np.array( ResultFeature.getData(ri,gi,di) ).flatten()\n",
    "            print(\"vertices:{}, elements:{}\".format(Vertices.shape, Elements.shape))\n",
    "\n",
    "            Vertices[Elements,:]\n",
    "            Data[Elements]\n",
    "            assert len(Vertices) == len(Data)\n",
    "            assert Elements.shape[1] == 2     ## == set of lines  \n",
    "\n",
    "            Ys = Data[Elements].flatten()             \n",
    "            Xs = Vertices[Elements,:].flatten() \n",
    "            Order = np.argsort(Xs)\n",
    "            Curves.append( [Xs[Order],Ys[Order]] ) \n",
    "        return Curves\n",
    "\n",
    "\n",
    "def PlotPlotGroup3D(ResultFeature) :\n",
    "        c2vtk = vtk_tools.Comsol2Vtk()\n",
    "\n",
    "        Indices = []\n",
    "        for ri in range(ResultFeature.getRenderGroups()) :\n",
    "            for gi in range( ResultFeature.getGroups(ri) ) :\n",
    "                for di in ResultFeature.getDataTypes(ri) : \n",
    "                    Indices.append([ri,gi,di])\n",
    "\n",
    "        Vtus = []\n",
    "        for (ri,gi,di) in Indices :\n",
    "            print(\"\\tRenderGroup:{}, Group:{}, DataTypes:'{}'\".format(ri,gi,di), end=\" -> \")\n",
    "            Vertices = np.array( ResultFeature.getVertices(ri,gi) ).T\n",
    "            Elements = np.array( ResultFeature.getElements(ri,gi) ).T\n",
    "            Data     = np.array( ResultFeature.getData(ri,gi,di) ).flatten()\n",
    "            print(\"vertices:{}, elements:{}\".format(Vertices.shape, Elements.shape))\n",
    "\n",
    "            Vertices[Elements,:]\n",
    "            assert len(Vertices) == len(Data)\n",
    "            assert Elements.shape[1] == 3     ## == 'tri' \n",
    "\n",
    "            Vtu = vtk_tools.GetSimpleUnstructuredGrid()\n",
    "            Vtu.SetVertices(Vertices[:,0], Vertices[:,1], Vertices[:,2])\n",
    "            Vtu.AddPointArray(Data,'prop')\n",
    "            Vtu.SetAnyCells(Elements, c2vtk.VtkCell.get('tri'))\n",
    "            Vtus.append( Vtu.Mesh )\n",
    "\n",
    "        vtm = vtk_tools.GetMultiBlockDataSetFromList( Vtus )\n",
    "        return vtm\n",
    "    "
   ]
  },
  {
   "cell_type": "code",
   "execution_count": null,
   "id": "7c05fd52",
   "metadata": {},
   "outputs": [],
   "source": []
  },
  {
   "cell_type": "code",
   "execution_count": 3,
   "id": "ebde8dab",
   "metadata": {},
   "outputs": [
    {
     "name": "stderr",
     "output_type": "stream",
     "text": [
      "DEBUG:mph:Using default configuration.\n"
     ]
    },
    {
     "name": "stdout",
     "output_type": "stream",
     "text": [
      "-----------------------\n",
      "+Running 'ipykernel_launcher'... \n",
      "PWD: $OUTPUT_PATH/COMSOL56/CASES\n"
     ]
    }
   ],
   "source": [
    "COMSOL=\"$OUTPUT_PATH/COMSOL56/Python/MPh\"\n",
    "VTK_TOOLS=\"$OUTPUT_PATH/COMSOL56/Python/\"\n",
    "\n",
    "import sys;\n",
    "\n",
    "sys.path.append(COMSOL)\n",
    "import mph;\n",
    "\n",
    "sys.path.append(VTK_TOOLS)\n",
    "import vtk_tools\n",
    "\n",
    "import vtk\n",
    "import numpy as np \n",
    "import pandas as pd\n",
    "\n",
    "import os\n",
    "print(\"PWD:\", os.getcwd())  \n"
   ]
  },
  {
   "cell_type": "code",
   "execution_count": null,
   "id": "c2c8af3d",
   "metadata": {},
   "outputs": [],
   "source": []
  },
  {
   "cell_type": "code",
   "execution_count": 4,
   "id": "f7e6f6c2",
   "metadata": {},
   "outputs": [
    {
     "name": "stderr",
     "output_type": "stream",
     "text": [
      "INFO:mph:Starting local Comsol session.\n",
      "DEBUG:mph:Checking installation folder \"/Applications/COMSOL56/Multiphysics\".\n",
      "DEBUG:mph:Reported version info is \"[comsol] CONFIG_FILE /Applications/COMSOL56/Multiphysics/bin/maci64/comsolcompile.ini\n",
      "COMSOL Multiphysics 5.6.0.401\".\n",
      "DEBUG:mph:Assigned name \"5.6\" to this installation.\n",
      "DEBUG:mph:No folder \"Multiphysics\" in \"COMSOL56.app\".\n",
      "INFO:mph:Starting external server process.\n",
      "INFO:mph:Server restricted to 1 processor core.\n"
     ]
    },
    {
     "name": "stdout",
     "output_type": "stream",
     "text": [
      "Version: '[comsol] CONFIG_FILE /Applications/COMSOL56/Multiphysics/bin/maci64/comsolcompile.ini\n",
      "COMSOL Multiphysics 5.6.0.401' \n"
     ]
    },
    {
     "name": "stderr",
     "output_type": "stream",
     "text": [
      "INFO:mph:Server listening on port 62232.\n",
      "DEBUG:mph:JPype version is 1.3.0.\n",
      "INFO:mph:Starting Java virtual machine.\n",
      "DEBUG:mph:JVM arguments: ['/Applications/COMSOL56/Multiphysics/java/maci64/jre/Contents/Home/lib/server/libjvm.dylib']\n",
      "INFO:mph:Java virtual machine has started.\n",
      "INFO:mph:Connecting to server \"localhost\" at port 62232.\n",
      "INFO:mph:Running on 1 processor core.\n",
      "INFO:mph:Loading model \"power_transistor_Model.mph\".\n",
      "INFO:mph:Finished loading model.\n"
     ]
    },
    {
     "name": "stdout",
     "output_type": "stream",
     "text": [
      "power_transistor_Model\n",
      "├─ parameters\n",
      "│  └─ Parameters 1\n",
      "├─ functions\n",
      "│  ├─ Blackbody Radiation Intensity\n",
      "│  └─ Smoothed Heaviside Function\n",
      "├─ components\n",
      "│  └─ Component 1\n",
      "├─ geometries\n",
      "│  └─ Geometry 1\n",
      "│     ├─ Block 1\n",
      "│     ├─ Work Plane 1\n",
      "│     ├─ Extrude 1\n",
      "│     ├─ Block 2\n",
      "│     ├─ Block 3\n",
      "│     ├─ Hexahedron 1\n",
      "│     ├─ Union 1\n",
      "│     ├─ Block 4\n",
      "│     ├─ Block 5\n",
      "│     ├─ Block 6\n",
      "│     ├─ Block 7\n",
      "│     ├─ Hexahedron 2\n",
      "│     ├─ Mirror 1\n",
      "│     ├─ Union 2\n",
      "│     ├─ Cylinder 1\n",
      "│     ├─ Difference 1\n",
      "│     ├─ Transistor Chip\n",
      "│     ├─ Work Plane 3\n",
      "│     ├─ Revolve 1\n",
      "│     ├─ Union 3\n",
      "│     ├─ Array 1\n",
      "│     ├─ Form Union\n",
      "│     ├─ Form Composite Domains 1\n",
      "│     └─ Form Composite Domains 2\n",
      "├─ views\n",
      "│  ├─ View 1\n",
      "│  ├─ View 2\n",
      "│  ├─ View 3\n",
      "│  └─ View 4\n",
      "├─ selections\n",
      "│  └─ Transistor Chip\n",
      "├─ coordinates\n",
      "│  └─ Boundary System 1\n",
      "├─ variables\n",
      "├─ couplings\n",
      "│  ├─ Integration\n",
      "│  ├─ Integration\n",
      "│  ├─ Integration\n",
      "│  ├─ Integration\n",
      "│  ├─ Integration\n",
      "│  ├─ Integration\n",
      "│  ├─ Integration\n",
      "│  ├─ Integration\n",
      "│  ├─ Integration\n",
      "│  ├─ Integration\n",
      "│  ├─ Integration\n",
      "│  ├─ Integration\n",
      "│  ├─ Integration\n",
      "│  ├─ Integration\n",
      "│  ├─ Integration\n",
      "│  ├─ Integration\n",
      "│  ├─ Integration\n",
      "│  ├─ Integration\n",
      "│  ├─ Integration\n",
      "│  ├─ Integration\n",
      "│  ├─ Integration\n",
      "│  ├─ Integration\n",
      "│  ├─ Integration\n",
      "│  ├─ Integration\n",
      "│  ├─ Integration\n",
      "│  ├─ Integration\n",
      "│  └─ Integration\n",
      "├─ physics\n",
      "│  ├─ Electric Currents\n",
      "│  │  ├─ Current Conservation 1\n",
      "│  │  ├─ Electric Insulation 1\n",
      "│  │  ├─ Initial Values 1\n",
      "│  │  ├─ Ground 1\n",
      "│  │  ├─ Normal Current Density 1\n",
      "│  │  ├─ Normal Current Density 2\n",
      "│  │  └─ Normal Current Density 3\n",
      "│  └─ Heat Transfer in Solids\n",
      "│     ├─ Solid 1\n",
      "│     │  └─ Opacity 1\n",
      "│     ├─ Initial Values 1\n",
      "│     ├─ Thermal Insulation 1\n",
      "│     ├─ Isothermal Domain Interface 1\n",
      "│     │  └─ Layer Opacity 1\n",
      "│     ├─ Opaque Surface 1\n",
      "│     ├─ Continuity on Interior Boundary 1\n",
      "│     ├─ Heat Flux 1\n",
      "│     └─ Boundary Heat Source 1\n",
      "├─ multiphysics\n",
      "│  └─ Electromagnetic Heating 1\n",
      "├─ materials\n",
      "│  ├─ Copper\n",
      "│  ├─ FR4 (Circuit Board)\n",
      "│  ├─ Silica glass\n",
      "│  └─ Solder, 60Sn-40Pb\n",
      "├─ meshes\n",
      "│  └─ Mesh 1\n",
      "│     ├─ Size\n",
      "│     └─ Free Tetrahedral 1\n",
      "├─ studies\n",
      "│  └─ Study 1\n",
      "│     └─ Stationary\n",
      "├─ solutions\n",
      "│  └─ Solution 1\n",
      "│     ├─ Compile Equations: Stationary\n",
      "│     ├─ Dependent Variables 1\n",
      "│     │  ├─ Temperature (comp1.T)\n",
      "│     │  └─ Electric potential (comp1.V)\n",
      "│     └─ Stationary Solver 1\n",
      "│        ├─ Direct\n",
      "│        ├─ Advanced\n",
      "│        ├─ Segregated 1\n",
      "│        │  ├─ Electric Currents\n",
      "│        │  ├─ Temperature\n",
      "│        │  └─ Lower Limit 1\n",
      "│        ├─ Iterative 1\n",
      "│        │  ├─ Incomplete LU\n",
      "│        │  └─ Multigrid 1\n",
      "│        │     ├─ Presmoother\n",
      "│        │     │  └─ SOR\n",
      "│        │     ├─ Postsmoother\n",
      "│        │     │  └─ SOR\n",
      "│        │     └─ Coarse Solver\n",
      "│        │        └─ Direct\n",
      "│        ├─ Direct, temperature (ht)\n",
      "│        └─ AMG, temperature (ht)\n",
      "│           ├─ Incomplete LU\n",
      "│           └─ Multigrid 1\n",
      "│              ├─ Presmoother\n",
      "│              │  ├─ SOR\n",
      "│              │  └─ SOR 1\n",
      "│              ├─ Postsmoother\n",
      "│              │  ├─ SOR\n",
      "│              │  └─ SOR 1\n",
      "│              └─ Coarse Solver\n",
      "│                 ├─ Direct\n",
      "│                 └─ Direct 1\n",
      "├─ batches\n",
      "├─ datasets\n",
      "│  └─ Study 1//Solution 1\n",
      "├─ evaluations\n",
      "├─ tables\n",
      "├─ plots\n",
      "│  ├─ Electric Potential (ec)\n",
      "│  │  └─ Surface 1\n",
      "│  ├─ Temperature (ht)\n",
      "│  │  ├─ Surface\n",
      "│  │  └─ Arrow Surface 1\n",
      "│  ├─ Isothermal Contours (ht)\n",
      "│  │  └─ Isosurface\n",
      "│  └─ Temperature along Copper Routes\n",
      "│     ├─ Line Graph 1\n",
      "│     └─ Line Graph 2\n",
      "└─ exports\n"
     ]
    }
   ],
   "source": [
    "CASE =\"$OUTPUT_PATH/COMSOL56/CASES/\"\n",
    "mph_name = \"%s/power_transistor_Model.mph\" % CASE\n",
    "\n",
    "client   = mph.start(cores=1)\n",
    "model    = client.load(mph_name)\n",
    "mph_name = mph_name.replace(\".mph\",\"\")\n",
    "\n",
    "mph.tree(model)\n"
   ]
  },
  {
   "cell_type": "code",
   "execution_count": null,
   "id": "bfb555ce",
   "metadata": {},
   "outputs": [],
   "source": []
  },
  {
   "cell_type": "code",
   "execution_count": 5,
   "id": "3956648f",
   "metadata": {},
   "outputs": [
    {
     "name": "stdout",
     "output_type": "stream",
     "text": [
      "[ResultsClient]\n",
      "Tag:'Results', Name:'result' -> Tags:['pg1', 'pg2', 'pg3', 'pg4']\n",
      "\n",
      "  Tag:'pg1', Name:'Electric Potential (ec)' -> Tags:['surf1']\n",
      "\tTag:'surf1', Name:'Surface 1'\n",
      "\t'Color' vertices:(3, 94715) elements:(3, 18952)\n",
      "\n",
      "  Tag:'pg2', Name:'Temperature (ht)' -> Tags:['surf1', 'arws1']\n",
      "\tTag:'surf1', Name:'Surface'\n",
      "\t'Color' vertices:(3, 26490) elements:(3, 46488)\n",
      "\n",
      "\tTag:'arws1', Name:'Arrow Surface 1'\n",
      "\t'VectorX' vertices:(3, 5061) elements:(0,)\n",
      "\t'VectorY' vertices:(3, 5061) elements:(0,)\n",
      "\t'VectorZ' vertices:(3, 5061) elements:(0,)\n",
      "\n",
      "  Tag:'pg3', Name:'Isothermal Contours (ht)' -> Tags:['iso1']\n",
      "\tTag:'iso1', Name:'Isosurface'\n",
      "\t'IsoLevel' vertices:(3, 604) elements:(3, 1024)\n",
      "\t'IsoLevel' vertices:(3, 1961) elements:(3, 3332)\n",
      "\t'IsoLevel' vertices:(3, 2347) elements:(3, 3994)\n",
      "\t'IsoLevel' vertices:(3, 3303) elements:(3, 5692)\n",
      "\t'IsoLevel' vertices:(3, 5321) elements:(3, 9373)\n",
      "\t'IsoLevel' vertices:(3, 16752) elements:(3, 30537)\n",
      "\t'IsoLevel' vertices:(3, 13683) elements:(3, 25935)\n",
      "\t'IsoLevel' vertices:(3, 182) elements:(3, 286)\n",
      "\t'IsoLevel' vertices:(3, 3053) elements:(3, 5878)\n",
      "\t'IsoLevel' vertices:(3, 3689) elements:(3, 7156)\n",
      "\n",
      "  Tag:'pg4', Name:'Temperature along Copper Routes' -> Tags:['lngr1', 'lngr2']\n",
      "\tTag:'lngr1', Name:'Line Graph 1'\n",
      "\t'Height' vertices:(1, 246) elements:(2, 245)\n",
      "\n",
      "\tTag:'lngr2', Name:'Line Graph 2'\n",
      "\t'Height' vertices:(1, 246) elements:(2, 245)\n",
      "\n"
     ]
    }
   ],
   "source": [
    "GetResultsClient(model.java)"
   ]
  },
  {
   "cell_type": "code",
   "execution_count": null,
   "id": "98fbf799",
   "metadata": {},
   "outputs": [],
   "source": []
  },
  {
   "cell_type": "code",
   "execution_count": 6,
   "id": "7918d00c",
   "metadata": {},
   "outputs": [
    {
     "name": "stdout",
     "output_type": "stream",
     "text": [
      "\tTag:'iso1', Name:'Isosurface'\n",
      "\t'IsoLevel' vertices:(3, 604) elements:(3, 1024)\n",
      "\t'IsoLevel' vertices:(3, 1961) elements:(3, 3332)\n",
      "\t'IsoLevel' vertices:(3, 2347) elements:(3, 3994)\n",
      "\t'IsoLevel' vertices:(3, 3303) elements:(3, 5692)\n",
      "\t'IsoLevel' vertices:(3, 5321) elements:(3, 9373)\n",
      "\t'IsoLevel' vertices:(3, 16752) elements:(3, 30537)\n",
      "\t'IsoLevel' vertices:(3, 13683) elements:(3, 25935)\n",
      "\t'IsoLevel' vertices:(3, 182) elements:(3, 286)\n",
      "\t'IsoLevel' vertices:(3, 3053) elements:(3, 5878)\n",
      "\t'IsoLevel' vertices:(3, 3689) elements:(3, 7156)\n",
      "\n",
      "\tRenderGroup:0, Group:0, DataTypes:'IsoLevel' -> vertices:(604, 3), elements:(1024, 3)\n",
      "\tRenderGroup:0, Group:1, DataTypes:'IsoLevel' -> vertices:(1961, 3), elements:(3332, 3)\n",
      "\tRenderGroup:0, Group:2, DataTypes:'IsoLevel' -> vertices:(2347, 3), elements:(3994, 3)\n",
      "\tRenderGroup:0, Group:3, DataTypes:'IsoLevel' -> vertices:(3303, 3), elements:(5692, 3)\n",
      "\tRenderGroup:0, Group:4, DataTypes:'IsoLevel' -> vertices:(5321, 3), elements:(9373, 3)\n",
      "\tRenderGroup:0, Group:5, DataTypes:'IsoLevel' -> vertices:(16752, 3), elements:(30537, 3)\n",
      "\tRenderGroup:0, Group:6, DataTypes:'IsoLevel' -> vertices:(13683, 3), elements:(25935, 3)\n",
      "\tRenderGroup:0, Group:7, DataTypes:'IsoLevel' -> vertices:(182, 3), elements:(286, 3)\n",
      "\tRenderGroup:0, Group:8, DataTypes:'IsoLevel' -> vertices:(3053, 3), elements:(5878, 3)\n",
      "\tRenderGroup:0, Group:9, DataTypes:'IsoLevel' -> vertices:(3689, 3), elements:(7156, 3)\n",
      "\t[Writer] 'plotGroup3D.vtm' Saved!!\n"
     ]
    },
    {
     "data": {
      "text/plain": [
       "'plotGroup3D.vtm'"
      ]
     },
     "execution_count": 6,
     "metadata": {},
     "output_type": "execute_result"
    }
   ],
   "source": [
    "ResultsClient = model.java.result()\n",
    "\n",
    "ResultFeatureClient = ResultsClient.get('pg3').feature('iso1')\n",
    "GetResultFeature(ResultFeatureClient)\n",
    "vtm = PlotPlotGroup3D(ResultFeatureClient)\n",
    "\n",
    "vtk_tools.Writer(vtm,'plotGroup3D') \n"
   ]
  },
  {
   "cell_type": "code",
   "execution_count": null,
   "id": "1151b147",
   "metadata": {},
   "outputs": [],
   "source": []
  },
  {
   "cell_type": "code",
   "execution_count": 7,
   "id": "780017d0",
   "metadata": {},
   "outputs": [
    {
     "name": "stdout",
     "output_type": "stream",
     "text": [
      "\tTag:'lngr1', Name:'Line Graph 1'\n",
      "\t'Height' vertices:(1, 246) elements:(2, 245)\n",
      "\n",
      "\tRenderGroup:0, Group:0, DataTypes:'Height' -> vertices:(246, 1), elements:(245, 2)\n"
     ]
    }
   ],
   "source": [
    "ResultsClient = model.java.result()\n",
    "\n",
    "ResultFeatureClient = ResultsClient.get('pg4').feature('lngr1')\n",
    "GetResultFeature(ResultFeatureClient)\n",
    "Curves = PlotPlotGroup2D(ResultFeatureClient) \n"
   ]
  },
  {
   "cell_type": "code",
   "execution_count": 9,
   "id": "3d9d05b2",
   "metadata": {},
   "outputs": [
    {
     "data": {
      "image/png": "[encoded data removed]",
      "text/plain": [
       "<Figure size 432x288 with 1 Axes>"
      ]
     },
     "metadata": {
      "needs_background": "light"
     },
     "output_type": "display_data"
    }
   ],
   "source": [
    "import matplotlib.pyplot as plt\n",
    "\n",
    "for (x,y) in Curves : \n",
    "    plt.plot(x,y)\n",
    "    \n",
    "plt.grid()\n",
    "plt.show()"
   ]
  },
  {
   "cell_type": "code",
   "execution_count": null,
   "id": "6852ea8c",
   "metadata": {},
   "outputs": [],
   "source": []
  }
 ],
 "metadata": {
  "kernelspec": {
   "display_name": "Python 3",
   "language": "python",
   "name": "python3"
  },
  "language_info": {
   "codemirror_mode": {
    "name": "ipython",
    "version": 3
   },
   "file_extension": ".py",
   "mimetype": "text/x-python",
   "name": "python",
   "nbconvert_exporter": "python",
   "pygments_lexer": "ipython3",
   "version": "3.7.9"
  }
 },
 "nbformat": 4,
 "nbformat_minor": 5
}
