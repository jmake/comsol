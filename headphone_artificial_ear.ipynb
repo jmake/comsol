{
 "cells": [
  {
   "cell_type": "code",
   "execution_count": null,
   "id": "f3a539e8",
   "metadata": {},
   "outputs": [],
   "source": []
  },
  {
   "cell_type": "code",
   "execution_count": 1,
   "id": "108b7e20",
   "metadata": {},
   "outputs": [
    {
     "name": "stderr",
     "output_type": "stream",
     "text": [
      "DEBUG:mph:Using default configuration.\n"
     ]
    },
    {
     "name": "stdout",
     "output_type": "stream",
     "text": [
      "-----------------------\n",
      "+Running 'ipykernel_launcher'... \n"
     ]
    }
   ],
   "source": [
    "COMSOL=\"$OUTPUT_PATH/COMSOL56/Python/MPh\"\n",
    "VTK_TOOLS=\"$OUTPUT_PATH/COMSOL56/Python/Tools\"\n",
    "\n",
    "import sys;\n",
    "\n",
    "sys.path.append(COMSOL)\n",
    "import mph;\n",
    "\n",
    "sys.path.append(VTK_TOOLS)\n",
    "import vtk_tools\n",
    "\n",
    "CASE =\"$OUTPUT_PATH/COMSOL56/CASES/\"\n",
    "mph_name = \"%s/headphone_artificial_ear.mph\" % CASE\n",
    "mph_props = ['T','V']\n",
    "\n",
    "import vtk\n",
    "import numpy as np \n",
    "import pandas as pd\n"
   ]
  },
  {
   "cell_type": "code",
   "execution_count": null,
   "id": "0c228446",
   "metadata": {},
   "outputs": [],
   "source": []
  },
  {
   "cell_type": "code",
   "execution_count": 2,
   "id": "821d99cd",
   "metadata": {},
   "outputs": [
    {
     "name": "stderr",
     "output_type": "stream",
     "text": [
      "INFO:mph:Starting local Comsol session.\n",
      "DEBUG:mph:Checking installation folder \"/Applications/COMSOL56/Multiphysics\".\n",
      "DEBUG:mph:Reported version info is \"[comsol] CONFIG_FILE /Applications/COMSOL56/Multiphysics/bin/maci64/comsolcompile.ini\n",
      "COMSOL Multiphysics 5.6.0.401\".\n",
      "DEBUG:mph:Assigned name \"5.6\" to this installation.\n",
      "DEBUG:mph:No folder \"Multiphysics\" in \"COMSOL56.app\".\n",
      "INFO:mph:Starting external server process.\n",
      "INFO:mph:Server restricted to 1 processor core.\n"
     ]
    },
    {
     "name": "stdout",
     "output_type": "stream",
     "text": [
      "Version: '[comsol] CONFIG_FILE /Applications/COMSOL56/Multiphysics/bin/maci64/comsolcompile.ini\n",
      "COMSOL Multiphysics 5.6.0.401' \n"
     ]
    },
    {
     "name": "stderr",
     "output_type": "stream",
     "text": [
      "INFO:mph:Server listening on port 64744.\n",
      "DEBUG:mph:JPype version is 1.3.0.\n",
      "INFO:mph:Starting Java virtual machine.\n",
      "DEBUG:mph:JVM arguments: ['/Applications/COMSOL56/Multiphysics/java/maci64/jre/Contents/Home/lib/server/libjvm.dylib']\n",
      "INFO:mph:Java virtual machine has started.\n",
      "INFO:mph:Connecting to server \"localhost\" at port 64744.\n",
      "INFO:mph:Running on 1 processor core.\n",
      "INFO:mph:Loading model \"headphone_artificial_ear2.mph\".\n",
      "INFO:mph:Finished loading model.\n"
     ]
    }
   ],
   "source": [
    "client   = mph.start(cores=1)\n",
    "model    = client.load(mph_name)\n",
    "mph_name = mph_name.replace(\".mph\",\"\")"
   ]
  },
  {
   "cell_type": "code",
   "execution_count": null,
   "id": "796cdde6",
   "metadata": {},
   "outputs": [],
   "source": []
  },
  {
   "cell_type": "code",
   "execution_count": 3,
   "id": "0581ba56",
   "metadata": {},
   "outputs": [
    {
     "name": "stdout",
     "output_type": "stream",
     "text": [
      "headphone_artificial_ear2\n",
      "├─ parameters\n",
      "│  ├─ Model parameters\n",
      "│  ├─ Perforated plates parameters\n",
      "│  └─ Thiele-Small Parameters\n",
      "├─ functions\n",
      "├─ components\n",
      "│  └─ Component 1\n",
      "├─ geometries\n",
      "│  └─ Geometry 1\n",
      "│     ├─ Import 1\n",
      "│     └─ Form Union\n",
      "├─ views\n",
      "│  └─ View 1\n",
      "├─ selections\n",
      "│  ├─ Foam\n",
      "│  ├─ Moving membrane positive\n",
      "│  ├─ Moving membrane negative\n",
      "│  ├─ Interior sound hard boundary\n",
      "│  ├─ Eardrum\n",
      "│  ├─ Skin with PML\n",
      "│  ├─ Skin without PML\n",
      "│  ├─ PML sides\n",
      "│  ├─ PML corners\n",
      "│  ├─ PML caps\n",
      "│  ├─ Perforated plate 1\n",
      "│  ├─ Perforated plate 2\n",
      "│  ├─ Perforated plate 3\n",
      "│  ├─ All Domains\n",
      "│  ├─ Plastic casing\n",
      "│  ├─ Air with PML\n",
      "│  ├─ Air without PML\n",
      "│  ├─ Air boundaries\n",
      "│  ├─ Moving membrane\n",
      "│  ├─ Meshed domains without PML and foam\n",
      "│  └─ PML\n",
      "├─ coordinates\n",
      "│  ├─ Boundary System 1\n",
      "│  ├─ Perfectly Matched Layer 1\n",
      "│  ├─ Perfectly Matched Layer 2\n",
      "│  └─ Perfectly Matched Layer 3\n",
      "├─ variables\n",
      "│  └─ Model variables\n",
      "├─ couplings\n",
      "│  └─ Integration on the moving membrane\n",
      "├─ physics\n",
      "├─ multiphysics\n",
      "├─ materials\n",
      "│  ├─ Air - Domains\n",
      "│  ├─ Air - Boundaries\n",
      "│  └─ Foam\n",
      "├─ meshes\n",
      "│  └─ Mesh 1\n",
      "│     ├─ Size\n",
      "│     ├─ Mapped 1\n",
      "│     │  └─ Size 1\n",
      "│     ├─ Swept 1\n",
      "│     │  └─ Size 1\n",
      "│     ├─ Free Tetrahedral 1\n",
      "│     │  └─ Size 1\n",
      "│     └─ Swept 2\n",
      "│        └─ Distribution 1\n",
      "├─ studies\n",
      "├─ solutions\n",
      "├─ batches\n",
      "├─ datasets\n",
      "├─ evaluations\n",
      "├─ tables\n",
      "├─ plots\n",
      "└─ exports\n"
     ]
    }
   ],
   "source": [
    "mph.tree(model)"
   ]
  },
  {
   "cell_type": "code",
   "execution_count": null,
   "id": "6e0184f4",
   "metadata": {},
   "outputs": [],
   "source": []
  },
  {
   "cell_type": "code",
   "execution_count": 4,
   "id": "982537bc",
   "metadata": {},
   "outputs": [],
   "source": [
    "SelectionList = model.java.selection()\n",
    "\n",
    "Selections = []\n",
    "for S in SelectionList :\n",
    "    selections = {\"name\":S.name(), \"type\":S.getType(), \"dim\":S.dimension()[0], \"entities\":S.entities(), \"input\":S.inputEntities()}\n",
    "    Selections.append(selections)\n"
   ]
  },
  {
   "cell_type": "code",
   "execution_count": 5,
   "id": "7106a515",
   "metadata": {},
   "outputs": [
    {
     "name": "stdout",
     "output_type": "stream",
     "text": [
      "                                   name        type  dim  \\\n",
      "0                                  Foam    Explicit    3   \n",
      "1              Moving membrane positive    Explicit    2   \n",
      "2              Moving membrane negative    Explicit    2   \n",
      "3          Interior sound hard boundary    Explicit    2   \n",
      "4                               Eardrum    Explicit    2   \n",
      "5                         Skin with PML    Explicit    2   \n",
      "6                      Skin without PML    Explicit    2   \n",
      "7                             PML sides    Explicit    3   \n",
      "8                           PML corners    Explicit    3   \n",
      "9                              PML caps    Explicit    3   \n",
      "10                   Perforated plate 1    Explicit    2   \n",
      "11                   Perforated plate 2    Explicit    2   \n",
      "12                   Perforated plate 3    Explicit    2   \n",
      "13                          All Domains    Explicit    3   \n",
      "14                       Plastic casing    Explicit    3   \n",
      "15                         Air with PML  Difference    3   \n",
      "16                      Air without PML  Difference    3   \n",
      "17                       Air boundaries       Union    2   \n",
      "18                      Moving membrane       Union    2   \n",
      "19  Meshed domains without PML and foam  Difference    3   \n",
      "20                                  PML       Union    3   \n",
      "\n",
      "                                             entities  \\\n",
      "0                            [15, 16, 17, 18, 19, 20]   \n",
      "1                                [150, 152, 156, 158]   \n",
      "2                                [151, 153, 157, 159]   \n",
      "3   [126, 127, 128, 129, 146, 147, 148, 149, 154, ...   \n",
      "4                                               [333]   \n",
      "5   [289, 316, 317, 318, 319, 320, 321, 322, 323, ...   \n",
      "6   [289, 317, 318, 319, 320, 321, 322, 324, 325, ...   \n",
      "7                                      [3, 4, 22, 25]   \n",
      "8                        [1, 2, 5, 6, 21, 23, 24, 26]   \n",
      "9                                              [7, 9]   \n",
      "10                                               [32]   \n",
      "11                                  [88, 95, 98, 113]   \n",
      "12                               [272, 273, 282, 283]   \n",
      "13  [1, 2, 3, 4, 5, 6, 7, 8, 9, 10, 11, 12, 13, 14...   \n",
      "14                                           [10, 12]   \n",
      "15  [1, 2, 3, 4, 5, 6, 7, 8, 9, 11, 13, 14, 21, 22...   \n",
      "16                                    [8, 11, 13, 14]   \n",
      "17  [32, 88, 95, 98, 113, 272, 273, 282, 283, 289,...   \n",
      "18           [150, 151, 152, 153, 156, 157, 158, 159]   \n",
      "19                                    [8, 11, 13, 14]   \n",
      "20   [1, 2, 3, 4, 5, 6, 7, 9, 21, 22, 23, 24, 25, 26]   \n",
      "\n",
      "                                                input  \n",
      "0                            [15, 16, 17, 18, 19, 20]  \n",
      "1                                [150, 152, 156, 158]  \n",
      "2                                [151, 153, 157, 159]  \n",
      "3   [126, 127, 128, 129, 146, 147, 148, 149, 154, ...  \n",
      "4                                               [333]  \n",
      "5   [289, 316, 317, 318, 319, 320, 321, 322, 323, ...  \n",
      "6   [289, 317, 318, 319, 320, 321, 322, 324, 325, ...  \n",
      "7                                      [3, 4, 22, 25]  \n",
      "8                        [1, 2, 5, 6, 21, 23, 24, 26]  \n",
      "9                                              [7, 9]  \n",
      "10                                               [32]  \n",
      "11                                  [88, 95, 98, 113]  \n",
      "12                               [272, 273, 282, 283]  \n",
      "13  [1, 2, 3, 4, 5, 6, 7, 8, 9, 10, 11, 12, 13, 14...  \n",
      "14                                           [10, 12]  \n",
      "15                                               None  \n",
      "16                                               None  \n",
      "17                                               None  \n",
      "18                                               None  \n",
      "19                                               None  \n",
      "20                                               None  \n"
     ]
    }
   ],
   "source": [
    "import pandas as pd\n",
    "df = pd.DataFrame(Selections).astype({\"name\":str,\"type\":str})\n",
    "print(df)"
   ]
  },
  {
   "cell_type": "code",
   "execution_count": null,
   "id": "0704230e",
   "metadata": {},
   "outputs": [],
   "source": []
  },
  {
   "cell_type": "code",
   "execution_count": 6,
   "id": "e0733118",
   "metadata": {},
   "outputs": [
    {
     "name": "stdout",
     "output_type": "stream",
     "text": [
      "                            name      type  dim  \\\n",
      "1       Moving membrane positive  Explicit    2   \n",
      "2       Moving membrane negative  Explicit    2   \n",
      "3   Interior sound hard boundary  Explicit    2   \n",
      "4                        Eardrum  Explicit    2   \n",
      "5                  Skin with PML  Explicit    2   \n",
      "6               Skin without PML  Explicit    2   \n",
      "10            Perforated plate 1  Explicit    2   \n",
      "11            Perforated plate 2  Explicit    2   \n",
      "12            Perforated plate 3  Explicit    2   \n",
      "17                Air boundaries     Union    2   \n",
      "18               Moving membrane     Union    2   \n",
      "\n",
      "                                             entities  \\\n",
      "1                                [150, 152, 156, 158]   \n",
      "2                                [151, 153, 157, 159]   \n",
      "3   [126, 127, 128, 129, 146, 147, 148, 149, 154, ...   \n",
      "4                                               [333]   \n",
      "5   [289, 316, 317, 318, 319, 320, 321, 322, 323, ...   \n",
      "6   [289, 317, 318, 319, 320, 321, 322, 324, 325, ...   \n",
      "10                                               [32]   \n",
      "11                                  [88, 95, 98, 113]   \n",
      "12                               [272, 273, 282, 283]   \n",
      "17  [32, 88, 95, 98, 113, 272, 273, 282, 283, 289,...   \n",
      "18           [150, 151, 152, 153, 156, 157, 158, 159]   \n",
      "\n",
      "                                                input  \n",
      "1                                [150, 152, 156, 158]  \n",
      "2                                [151, 153, 157, 159]  \n",
      "3   [126, 127, 128, 129, 146, 147, 148, 149, 154, ...  \n",
      "4                                               [333]  \n",
      "5   [289, 316, 317, 318, 319, 320, 321, 322, 323, ...  \n",
      "6   [289, 317, 318, 319, 320, 321, 322, 324, 325, ...  \n",
      "10                                               [32]  \n",
      "11                                  [88, 95, 98, 113]  \n",
      "12                               [272, 273, 282, 283]  \n",
      "17                                               None  \n",
      "18                                               None  \n"
     ]
    }
   ],
   "source": [
    "dim = 2\n",
    "grouped = df.groupby(['dim']).get_group(dim)\n",
    "print( grouped )"
   ]
  },
  {
   "cell_type": "code",
   "execution_count": null,
   "id": "a33cdf37",
   "metadata": {},
   "outputs": [],
   "source": []
  },
  {
   "cell_type": "code",
   "execution_count": 7,
   "id": "2abee71d",
   "metadata": {},
   "outputs": [
    {
     "name": "stdout",
     "output_type": "stream",
     "text": [
      "path(0):'$OUTPUT_PATH/COMSOL56/CASES/moving_membrane_positive.stl'\n",
      "path(1):'$OUTPUT_PATH/COMSOL56/CASES/moving_membrane_negative.stl'\n",
      "path(2):'$OUTPUT_PATH/COMSOL56/CASES/interior_sound_hard_boundary.stl'\n",
      "path(3):'$OUTPUT_PATH/COMSOL56/CASES/eardrum.stl'\n",
      "path(4):'$OUTPUT_PATH/COMSOL56/CASES/skin_with_pml.stl'\n",
      "path(5):'$OUTPUT_PATH/COMSOL56/CASES/skin_without_pml.stl'\n",
      "path(6):'$OUTPUT_PATH/COMSOL56/CASES/perforated_plate_1.stl'\n",
      "path(7):'$OUTPUT_PATH/COMSOL56/CASES/perforated_plate_2.stl'\n",
      "path(8):'$OUTPUT_PATH/COMSOL56/CASES/perforated_plate_3.stl'\n",
      "path(9):'$OUTPUT_PATH/COMSOL56/CASES/air_boundaries.stl'\n",
      "path(10):'$OUTPUT_PATH/COMSOL56/CASES/moving_membrane.stl'\n"
     ]
    }
   ],
   "source": [
    "Stls = [] \n",
    "for i,(index,row) in enumerate(grouped.iterrows()):\n",
    "    name = row['name']\n",
    "    name = name.replace(\" \",\"_\").lower() + \".stl\"\n",
    "    #print(name)\n",
    "\n",
    "    model.java.component('comp1').geom('geom1').export().setSTLFormat('text')\n",
    "    model.java.component('comp1').geom('geom1').export().selection().init(dim)\n",
    "    for j in row['entities'] :\n",
    "      model.java.component('comp1').geom('geom1').export().selection().add(\"imp1\",j)\n",
    "\n",
    "    path = str(model.java.component('comp1').geom('geom1').export(name))\n",
    "   \n",
    "    print(\"path(%d):'%s'\" % (i,path))\n",
    "    Stls.append(path)\n",
    "    "
   ]
  },
  {
   "cell_type": "code",
   "execution_count": null,
   "id": "cd2ff4ff",
   "metadata": {},
   "outputs": [],
   "source": []
  },
  {
   "cell_type": "code",
   "execution_count": 11,
   "id": "ef462632",
   "metadata": {},
   "outputs": [
    {
     "name": "stdout",
     "output_type": "stream",
     "text": [
      "\t[Reader] File:'$OUTPUT_PATH/COMSOL56/CASES/air_boundaries.stl' ClassName:'vtkPolyData' \n",
      "\t[GetCellsList] Found Types:  ['VTK_TRIANGLE']\n"
     ]
    }
   ],
   "source": [
    "from mpl_toolkits import mplot3d\n",
    "from matplotlib import pyplot\n",
    "\n",
    "vtp = vtk_tools.Reader(Stls[9])\n",
    "Coords = vtk_tools.GetCoords(vtp)\n",
    "CellVertices,_ = vtk_tools.GetCellsList(vtp)\n",
    "CellVertices = np.array(CellVertices)\n",
    "\n",
    "cell = CellVertices[:,:]\n",
    "face = Coords[cell,:]\n",
    "collection = mplot3d.art3d.Poly3DCollection(face, alpha=0.5)\n"
   ]
  },
  {
   "cell_type": "code",
   "execution_count": 12,
   "id": "787a29e1",
   "metadata": {},
   "outputs": [
    {
     "data": {
      "image/png": "[encoded data removed]",
      "text/plain": [
       "<Figure size 432x288 with 1 Axes>"
      ]
     },
     "metadata": {
      "needs_background": "light"
     },
     "output_type": "display_data"
    }
   ],
   "source": [
    "figure = pyplot.figure()\n",
    "axes = mplot3d.Axes3D(figure)\n",
    "axes.scatter(Coords[:,0], Coords[:,1], Coords[:,2], color='black',marker=',',lw=0, s=1, alpha=0.5)\n",
    "axes.add_collection3d( collection )\n",
    "axes.view_init(15,-143)\n",
    "pyplot.show()"
   ]
  },
  {
   "cell_type": "code",
   "execution_count": null,
   "id": "bf17a308",
   "metadata": {},
   "outputs": [],
   "source": []
  },
  {
   "cell_type": "code",
   "execution_count": 14,
   "id": "9619c36c",
   "metadata": {},
   "outputs": [
    {
     "name": "stdout",
     "output_type": "stream",
     "text": [
      "PWD:'$OUTPUT_PATH/COMSOL/Python/Test04_1' \n"
     ]
    }
   ],
   "source": [
    "import os\n",
    "print(\"PWD:'{}' \".format(os.getcwd()))  "
   ]
  },
  {
   "cell_type": "code",
   "execution_count": null,
   "id": "5a49b7b4",
   "metadata": {},
   "outputs": [],
   "source": []
  }
 ],
 "metadata": {
  "kernelspec": {
   "display_name": "Python 3",
   "language": "python",
   "name": "python3"
  },
  "language_info": {
   "codemirror_mode": {
    "name": "ipython",
    "version": 3
   },
   "file_extension": ".py",
   "mimetype": "text/x-python",
   "name": "python",
   "nbconvert_exporter": "python",
   "pygments_lexer": "ipython3",
   "version": "3.7.9"
  }
 },
 "nbformat": 4,
 "nbformat_minor": 5
}
